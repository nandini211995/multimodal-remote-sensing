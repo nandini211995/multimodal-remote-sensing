{
 "cells": [
  {
   "cell_type": "code",
   "execution_count": 22,
   "metadata": {},
   "outputs": [],
   "source": [
    "import requests\n",
    "\n",
    "API_TOKEN = \"enter your api token\"\n",
    "API_URL = \"https://api-inference.huggingface.co/models/Salesforce/blip-image-captioning-large\"\n",
    "headers = {\"Authorization\": f\"Bearer {API_TOKEN}\"}\n",
    "\n"
   ]
  },
  {
   "cell_type": "markdown",
   "metadata": {},
   "source": [
    "# Method 1 : using API call"
   ]
  },
  {
   "cell_type": "code",
   "execution_count": 23,
   "metadata": {},
   "outputs": [],
   "source": [
    "def query(filename):\n",
    "    with open(filename, \"rb\") as f:\n",
    "        data = f.read()\n",
    "    response = requests.post(API_URL, headers=headers, data=data)\n",
    "    return response.json()\n",
    "\n"
   ]
  },
  {
   "cell_type": "code",
   "execution_count": 16,
   "metadata": {},
   "outputs": [],
   "source": [
    "output = query(\".\\AIDER\\collapsed_building\\collapsed_building_image0001.jpg\")"
   ]
  },
  {
   "cell_type": "code",
   "execution_count": 17,
   "metadata": {},
   "outputs": [
    {
     "data": {
      "text/plain": [
       "[{'generated_text': 'arafed roof of a building is seen in this aerial photo'}]"
      ]
     },
     "execution_count": 17,
     "metadata": {},
     "output_type": "execute_result"
    }
   ],
   "source": [
    "output"
   ]
  },
  {
   "cell_type": "markdown",
   "metadata": {},
   "source": [
    "# Method 2 : using model load"
   ]
  },
  {
   "cell_type": "code",
   "execution_count": 18,
   "metadata": {},
   "outputs": [],
   "source": [
    "from PIL import Image\n",
    "import requests\n",
    "from transformers import AutoProcessor, BlipForConditionalGeneration\n",
    "\n",
    "processor = AutoProcessor.from_pretrained(\"Salesforce/blip-image-captioning-base\")\n",
    "model = BlipForConditionalGeneration.from_pretrained(\"Salesforce/blip-image-captioning-base\")\n",
    "\n",
    "image_path = \".\\AIDER\\collapsed_building\\collapsed_building_image0001.jpg\"\n",
    "image = Image.open(image_path)\n",
    "#text = \"A picture of\"\n",
    "\n",
    "#inputs = processor(images=image, text=text, return_tensors=\"pt\")\n",
    "\n",
    "#outputs = model(**inputs)"
   ]
  },
  {
   "cell_type": "code",
   "execution_count": 19,
   "metadata": {},
   "outputs": [
    {
     "name": "stdout",
     "output_type": "stream",
     "text": [
      "a large building that has been damaged by the tornado\n"
     ]
    }
   ],
   "source": [
    "# prepare image for the model\n",
    "inputs = processor(images=image, return_tensors=\"pt\")\n",
    "pixel_values = inputs.pixel_values\n",
    "\n",
    "generated_ids = model.generate(pixel_values=pixel_values, max_length=50)\n",
    "generated_caption = processor.batch_decode(generated_ids, skip_special_tokens=True)[0]\n",
    "print(generated_caption)"
   ]
  },
  {
   "cell_type": "markdown",
   "metadata": {},
   "source": [
    "# run for all images of AIDER"
   ]
  },
  {
   "cell_type": "code",
   "execution_count": 24,
   "metadata": {},
   "outputs": [],
   "source": [
    "import os \n",
    "import pandas as pd"
   ]
  },
  {
   "cell_type": "code",
   "execution_count": 31,
   "metadata": {},
   "outputs": [],
   "source": [
    "def generate_caption_for_image(input_image_path):\n",
    "    image = Image.open(input_image_path)\n",
    "    # prepare image for the model\n",
    "    inputs = processor(images=image, return_tensors=\"pt\")\n",
    "    pixel_values = inputs.pixel_values\n",
    "\n",
    "    generated_ids = model.generate(pixel_values=pixel_values, max_length=100)\n",
    "    generated_caption = processor.batch_decode(generated_ids, skip_special_tokens=True)[0]\n",
    "    #print(generated_caption)\n",
    "    return generated_caption\n",
    "   "
   ]
  },
  {
   "cell_type": "code",
   "execution_count": 20,
   "metadata": {},
   "outputs": [],
   "source": [
    "folder_list = ['collapsed_building','fire', 'flooded_areas','traffic_incident']"
   ]
  },
  {
   "cell_type": "code",
   "execution_count": 26,
   "metadata": {},
   "outputs": [],
   "source": [
    "base_folder_path = r\".\\AIDER\""
   ]
  },
  {
   "cell_type": "code",
   "execution_count": 41,
   "metadata": {},
   "outputs": [],
   "source": [
    "# Define a dictionary to map folder names to label classes\n",
    "label_class = {'collapsed_building': 0, 'fire': 1, 'flooded_areas': 2, 'traffic_incident': 3}\n",
    "\n",
    "# Initialize your data list\n",
    "data = []"
   ]
  },
  {
   "cell_type": "code",
   "execution_count": 42,
   "metadata": {},
   "outputs": [],
   "source": [
    "\n",
    "# Iterate through each folder\n",
    "for folder_name in folder_list:\n",
    "    folder_path = os.path.join(base_folder_path, folder_name)\n",
    "    label = label_class[folder_name]  # Get the label for the folder\n",
    "    \n",
    "    # Iterate through files in the folder\n",
    "    for filename in os.listdir(folder_path):\n",
    "        if filename.endswith(('.jpg', '.jpeg', '.png', '.gif')):\n",
    "            # Construct the full image path\n",
    "            image_path = os.path.join(folder_path, filename)\n",
    "            \n",
    "            # Generate captions for the image (replace with your caption generation code)\n",
    "            caption = generate_caption_for_image(image_path)  # Replace with your code\n",
    "            \n",
    "            # Create a data entry dictionary\n",
    "            entry = {\n",
    "                'File Name': filename,\n",
    "                'Caption': caption,\n",
    "                'image_file_path': image_path,\n",
    "                'label_class': label\n",
    "            }\n",
    "            \n",
    "            # Append the entry to the data list\n",
    "            data.append(entry)\n",
    "\n"
   ]
  },
  {
   "cell_type": "code",
   "execution_count": 43,
   "metadata": {},
   "outputs": [
    {
     "data": {
      "text/plain": [
       "2043"
      ]
     },
     "execution_count": 43,
     "metadata": {},
     "output_type": "execute_result"
    }
   ],
   "source": [
    "len(data)"
   ]
  },
  {
   "cell_type": "code",
   "execution_count": 44,
   "metadata": {},
   "outputs": [],
   "source": [
    "caption_image_df = pd.DataFrame(data)\n"
   ]
  },
  {
   "cell_type": "code",
   "execution_count": 45,
   "metadata": {},
   "outputs": [
    {
     "data": {
      "text/html": [
       "<div>\n",
       "<style scoped>\n",
       "    .dataframe tbody tr th:only-of-type {\n",
       "        vertical-align: middle;\n",
       "    }\n",
       "\n",
       "    .dataframe tbody tr th {\n",
       "        vertical-align: top;\n",
       "    }\n",
       "\n",
       "    .dataframe thead th {\n",
       "        text-align: right;\n",
       "    }\n",
       "</style>\n",
       "<table border=\"1\" class=\"dataframe\">\n",
       "  <thead>\n",
       "    <tr style=\"text-align: right;\">\n",
       "      <th></th>\n",
       "      <th>File Name</th>\n",
       "      <th>Caption</th>\n",
       "      <th>image_file_path</th>\n",
       "      <th>label_class</th>\n",
       "    </tr>\n",
       "  </thead>\n",
       "  <tbody>\n",
       "    <tr>\n",
       "      <th>0</th>\n",
       "      <td>collapsed_building_image0001.jpg</td>\n",
       "      <td>a large building that has been damaged by the ...</td>\n",
       "      <td>.\\AIDER\\collapsed_building\\collapsed_building_...</td>\n",
       "      <td>0</td>\n",
       "    </tr>\n",
       "    <tr>\n",
       "      <th>1</th>\n",
       "      <td>collapsed_building_image0002.jpg</td>\n",
       "      <td>a house fire in the area of a residential area</td>\n",
       "      <td>.\\AIDER\\collapsed_building\\collapsed_building_...</td>\n",
       "      <td>0</td>\n",
       "    </tr>\n",
       "    <tr>\n",
       "      <th>2</th>\n",
       "      <td>collapsed_building_image0003.jpg</td>\n",
       "      <td>a house is shown in this aerial photo</td>\n",
       "      <td>.\\AIDER\\collapsed_building\\collapsed_building_...</td>\n",
       "      <td>0</td>\n",
       "    </tr>\n",
       "    <tr>\n",
       "      <th>3</th>\n",
       "      <td>collapsed_building_image0004.jpg</td>\n",
       "      <td>a house is seen in the aftermath of a tornado ...</td>\n",
       "      <td>.\\AIDER\\collapsed_building\\collapsed_building_...</td>\n",
       "      <td>0</td>\n",
       "    </tr>\n",
       "    <tr>\n",
       "      <th>4</th>\n",
       "      <td>collapsed_building_image0005.jpg</td>\n",
       "      <td>the scene of the explosion at the mall in the ...</td>\n",
       "      <td>.\\AIDER\\collapsed_building\\collapsed_building_...</td>\n",
       "      <td>0</td>\n",
       "    </tr>\n",
       "  </tbody>\n",
       "</table>\n",
       "</div>"
      ],
      "text/plain": [
       "                          File Name  \\\n",
       "0  collapsed_building_image0001.jpg   \n",
       "1  collapsed_building_image0002.jpg   \n",
       "2  collapsed_building_image0003.jpg   \n",
       "3  collapsed_building_image0004.jpg   \n",
       "4  collapsed_building_image0005.jpg   \n",
       "\n",
       "                                             Caption  \\\n",
       "0  a large building that has been damaged by the ...   \n",
       "1     a house fire in the area of a residential area   \n",
       "2              a house is shown in this aerial photo   \n",
       "3  a house is seen in the aftermath of a tornado ...   \n",
       "4  the scene of the explosion at the mall in the ...   \n",
       "\n",
       "                                     image_file_path  label_class  \n",
       "0  .\\AIDER\\collapsed_building\\collapsed_building_...            0  \n",
       "1  .\\AIDER\\collapsed_building\\collapsed_building_...            0  \n",
       "2  .\\AIDER\\collapsed_building\\collapsed_building_...            0  \n",
       "3  .\\AIDER\\collapsed_building\\collapsed_building_...            0  \n",
       "4  .\\AIDER\\collapsed_building\\collapsed_building_...            0  "
      ]
     },
     "execution_count": 45,
     "metadata": {},
     "output_type": "execute_result"
    }
   ],
   "source": [
    "caption_image_df.head(5)"
   ]
  },
  {
   "cell_type": "code",
   "execution_count": 46,
   "metadata": {},
   "outputs": [],
   "source": [
    "caption_image_df.to_csv('captions_AIDER_class_generate_2.csv', index=False)\n"
   ]
  },
  {
   "cell_type": "code",
   "execution_count": 38,
   "metadata": {},
   "outputs": [
    {
     "data": {
      "text/plain": [
       "[{'File Name': 'collapsed_building_image0001.jpg',\n",
       "  'Caption': 'a large building that has been damaged by the tornado'},\n",
       " {'File Name': 'collapsed_building_image0002.jpg',\n",
       "  'Caption': 'a house fire in the area of a residential area'},\n",
       " {'File Name': 'collapsed_building_image0003.jpg',\n",
       "  'Caption': 'a house is shown in this aerial photo'},\n",
       " {'File Name': 'collapsed_building_image0004.jpg',\n",
       "  'Caption': 'a house is seen in the aftermath of a tornado in moore, texas'},\n",
       " {'File Name': 'collapsed_building_image0005.jpg',\n",
       "  'Caption': 'the scene of the explosion at the mall in the bronx'}]"
      ]
     },
     "execution_count": 38,
     "metadata": {},
     "output_type": "execute_result"
    }
   ],
   "source": [
    "data [:5]"
   ]
  },
  {
   "cell_type": "code",
   "execution_count": null,
   "metadata": {},
   "outputs": [],
   "source": []
  }
 ],
 "metadata": {
  "kernelspec": {
   "display_name": "Python 3",
   "language": "python",
   "name": "python3"
  },
  "language_info": {
   "codemirror_mode": {
    "name": "ipython",
    "version": 3
   },
   "file_extension": ".py",
   "mimetype": "text/x-python",
   "name": "python",
   "nbconvert_exporter": "python",
   "pygments_lexer": "ipython3",
   "version": "3.8.10"
  },
  "orig_nbformat": 4
 },
 "nbformat": 4,
 "nbformat_minor": 2
}
